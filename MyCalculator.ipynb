{
 "cells": [
  {
   "cell_type": "code",
   "execution_count": null,
   "metadata": {},
   "outputs": [
    {
     "name": "stdout",
     "output_type": "stream",
     "text": [
      "Hello!\n",
      "Would you like to do addition input \"add\":\n",
      "Would you like to do subtract input \"sub\":\n",
      "Would you like to do multiply input \"mul\":\n",
      "Would you like to do divide input \"div\":\n",
      " Enter \"quit\" to end the program\n",
      "Which operation would you like to perform: ADD\n"
     ]
    }
   ],
   "source": [
    "#Making a Calculator\n",
    "\n",
    "while True:\n",
    "    print('Hello!')\n",
    "    print('Would you like to do addition input \"add\":')\n",
    "    print('Would you like to do subtract input \"sub\":')\n",
    "    print('Would you like to do multiply input \"mul\":')\n",
    "    print('Would you like to do divide input \"div\":')\n",
    "    print(' Enter \"quit\" to end the program')\n",
    "\n",
    "    to_do = input('Which operation would you like to perform: ').lower()\n",
    "\n",
    "    if to_do == 'quit':\n",
    "        break\n",
    "\n",
    "    elif to_do == 'add':\n",
    "        num1 = float(input('The 1st number you want to add: '))\n",
    "        num2 = float(input('The 2nd number you want to add: '))\n",
    "        sum_2 = str(num1+num2)\n",
    "        print('The addition of two numbers is {}'.format(sum_2))\n",
    "\n",
    "    elif to_do == 'sub':\n",
    "        num1 = float(input('The 1st number you want to sub: '))\n",
    "        num2 = float(input('The 2nd number you want to sub: '))\n",
    "        sub_2 = str(num1-num2)\n",
    "        print('The subtraction of two numbers is {}'.format(sub_2))\n",
    "\n",
    "    elif to_do == 'mul':\n",
    "        num1 = float(input('The 1st number you want to mul: '))\n",
    "        num2 = float(input('The 2nd number you want to mul: '))\n",
    "        mul_2 = str(num1*num2)\n",
    "        print('The multiplication of two numbers is {}'.format(mul_2))\n",
    "\n",
    "    elif to_do == 'div':\n",
    "        num1 = float(input('The 1st number you want to div: '))\n",
    "        num2 = float(input('The 2nd number you want to div: '))\n",
    "        div_2 = str(num1/num2)\n",
    "        print('The addition of two numbers is {}'.format(div_2))\n",
    "    else:\n",
    "        print('The input is invalid')"
   ]
  },
  {
   "cell_type": "code",
   "execution_count": null,
   "metadata": {},
   "outputs": [],
   "source": []
  },
  {
   "cell_type": "code",
   "execution_count": null,
   "metadata": {},
   "outputs": [],
   "source": []
  }
 ],
 "metadata": {
  "kernelspec": {
   "display_name": "Python 3",
   "language": "python",
   "name": "python3"
  },
  "language_info": {
   "codemirror_mode": {
    "name": "ipython",
    "version": 3
   },
   "file_extension": ".py",
   "mimetype": "text/x-python",
   "name": "python",
   "nbconvert_exporter": "python",
   "pygments_lexer": "ipython3",
   "version": "3.7.4"
  }
 },
 "nbformat": 4,
 "nbformat_minor": 2
}
